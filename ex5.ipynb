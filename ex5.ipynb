{
 "cells": [
  {
   "cell_type": "markdown",
   "metadata": {},
   "source": [
    "# Studying Bias and Variance in machine learning\n",
    "\n",
    "These terms have a different meaning to bias and variance in econometrics \n",
    "\n",
    "## Bias: \n",
    "Underfitting data. The error rate of the model is high.\n",
    "\n",
    "## Variance: \n",
    "Overfitting data. The model's ability to predict out of sample is low despite low in sample error.\n"
   ]
  },
  {
   "cell_type": "markdown",
   "metadata": {},
   "source": [
    "Loading things"
   ]
  },
  {
   "cell_type": "code",
   "execution_count": 471,
   "metadata": {
    "collapsed": true
   },
   "outputs": [],
   "source": [
    "%matplotlib inline\n",
    "import matplotlib.pyplot as plt\n",
    "import numpy as np\n",
    "from scipy.io import loadmat\n",
    "from scipy.optimize import minimize"
   ]
  },
  {
   "cell_type": "markdown",
   "metadata": {},
   "source": [
    "### 1.1 Visualising the dataset\n",
    "\n",
    "We will begin by visualizing the dataset containing historical records on the change in the water level, x, and the amount of water flowing out of the dam, y.\n",
    "\n",
    "This dataset is divided into three parts:\n",
    "+ A training set that your model will learn on: X, y\n",
    "+ A cross validation set for determining the regularization parameter: Xval, yval\n",
    "+ A test set for evaluating performance. These are “unseen” examples which your model did not see during training: Xtest, ytest"
   ]
  },
  {
   "cell_type": "code",
   "execution_count": 472,
   "metadata": {
    "collapsed": false
   },
   "outputs": [],
   "source": [
    "data = loadmat('ex5data1.mat')\n",
    "X_0 = data['X']\n",
    "X_0_test = data['Xtest']\n",
    "X_0_val = data['Xval']\n",
    "y = data['y']\n",
    "y_test = data['ytest']\n",
    "y_val = data['yval']\n",
    "# initialising thetas\n",
    "theta_0 = np.ones((2,1))"
   ]
  },
  {
   "cell_type": "code",
   "execution_count": 473,
   "metadata": {
    "collapsed": false
   },
   "outputs": [
    {
     "data": {
      "text/plain": [
       "<matplotlib.text.Text at 0x110fbfc50>"
      ]
     },
     "execution_count": 473,
     "metadata": {},
     "output_type": "execute_result"
    },
    {
     "data": {
      "image/png": "[encoded data removed]",
      "text/plain": [
       "<matplotlib.figure.Figure at 0x1108d5dd0>"
      ]
     },
     "metadata": {},
     "output_type": "display_data"
    }
   ],
   "source": [
    "plt.scatter(X_0, y, c = 'r', marker='x')\n",
    "plt.xlabel('Change in water level')\n",
    "plt.ylabel('Change in water flowing out of dam')"
   ]
  },
  {
   "cell_type": "markdown",
   "metadata": {},
   "source": [
    "### 1.2 Regularized linear regression cost function\n",
    "\n",
    "$J(\\theta) = \\frac{1}{2m} \\left( \\sum_{i=1}^m (h_\\theta(x^{(i)}) - y^{(i)})^2 \\right) + \\frac{\\lambda}{2m}\\left(\\sum_{j=i}^n \\theta^2_j\\right)$"
   ]
  },
  {
   "cell_type": "code",
   "execution_count": 474,
   "metadata": {
    "collapsed": false
   },
   "outputs": [],
   "source": [
    "def add_ones(X_0):\n",
    "    \"\"\"\n",
    "    Adds a column of ones to X\n",
    "    \"\"\"\n",
    "    m, n = X_0.shape\n",
    "    # add a row of ones\n",
    "    X = np.ones((m, n+1))\n",
    "    X[:,1:] = X_0\n",
    "    return X\n",
    "\n",
    "def predict(X_0, theta):\n",
    "    \"\"\"\n",
    "    Generates a prediction of outcome y given data X and parameters theta\n",
    "    X_0 is a (m, n) matrix\n",
    "    y is a (m, 1) matrix\n",
    "    theta is a (n+1, 1) matrix\n",
    "    \"\"\"\n",
    "    X = add_ones(X_0)\n",
    "    h_theta = np.dot(X, theta)\n",
    "    return h_theta\n",
    "\n",
    "def cost_function(theta, X_0, y, lamda):\n",
    "    \"\"\"\n",
    "    Calculates the cost function for a linear regression\n",
    "    X_0 is a (m, n) matrix\n",
    "    y is a (m, 1) matrix\n",
    "    theta is a (n+1, 1) matrix\n",
    "    \"\"\"\n",
    "    theta = theta.reshape((X_0.shape[1]+1, 1))\n",
    "    h_theta = predict(X_0, theta)\n",
    "    dist = h_theta - y\n",
    "    term1 = np.dot(dist.T, dist) / float(2*m)\n",
    "    term2 = (lamda / float(2*m)) * np.dot(theta[1:].T, theta[1:])\n",
    "    return (term1 + term2)[0][0]\n",
    "    \n",
    "    "
   ]
  },
  {
   "cell_type": "code",
   "execution_count": 475,
   "metadata": {
    "collapsed": false
   },
   "outputs": [
    {
     "data": {
      "text/plain": [
       "303.95152555359761"
      ]
     },
     "execution_count": 475,
     "metadata": {},
     "output_type": "execute_result"
    }
   ],
   "source": [
    "cost_function(theta_0, X_0, y, 0.0)"
   ]
  },
  {
   "cell_type": "markdown",
   "metadata": {},
   "source": [
    "### 1.3 Regularized linear regression gradient\n",
    "\n",
    "$\\frac{\\partial J(\\theta)}{\\partial \\theta_0} = \\frac{1}{m} \\sum_{i=1}^m (h_\\theta(x^{(i)}) - y^{(i)})x^{(i)}$ for $j=0$\n",
    "\n",
    "$\\frac{\\partial J(\\theta)}{\\partial \\theta_j} = \\frac{1}{m} \\left( \\sum_{i=1}^m (h_\\theta(x^{(i)}) - y^{(i)})x^{(i)} \\right) + \\frac{\\lambda}{m}\\theta_j$ for $1 \\leq j$"
   ]
  },
  {
   "cell_type": "code",
   "execution_count": 476,
   "metadata": {
    "collapsed": true
   },
   "outputs": [],
   "source": [
    "def cost_gradient(theta, X_0, y, lamda):\n",
    "    \"\"\"\n",
    "    Calculates the gradient of the cost function\n",
    "    \"\"\"\n",
    "    theta = theta.reshape((X_0.shape[1]+1, 1))\n",
    "    h_theta = predict(X_0, theta)\n",
    "    dist = h_theta - y\n",
    "    X = add_ones(X_0)\n",
    "    term1 = np.dot(dist.T, X) / float(m)\n",
    "    term2 = (lamda / float(m)) * theta_0[1:]\n",
    "    grad = term1[0]\n",
    "    grad[1:] += term2\n",
    "    return grad.flatten()"
   ]
  },
  {
   "cell_type": "code",
   "execution_count": 479,
   "metadata": {
    "collapsed": false
   },
   "outputs": [
    {
     "data": {
      "text/plain": [
       "array([ -15.30301567,  598.25074417])"
      ]
     },
     "execution_count": 479,
     "metadata": {},
     "output_type": "execute_result"
    }
   ],
   "source": [
    "cost_gradient(theta_0, X_0, y, 1.0)"
   ]
  },
  {
   "cell_type": "markdown",
   "metadata": {},
   "source": [
    "### 1.4 Fitting linear regression"
   ]
  },
  {
   "cell_type": "code",
   "execution_count": 478,
   "metadata": {
    "collapsed": false
   },
   "outputs": [
    {
     "name": "stdout",
     "output_type": "stream",
     "text": [
      "Optimization terminated successfully.\n",
      "         Current function value: 22.373906\n",
      "         Iterations: 18\n",
      "         Function evaluations: 28\n",
      "         Gradient evaluations: 28\n"
     ]
    },
    {
     "data": {
      "text/plain": [
       "array([ 13.08790734,   0.36777925])"
      ]
     },
     "execution_count": 478,
     "metadata": {},
     "output_type": "execute_result"
    }
   ],
   "source": [
    "lamda = 0.0\n",
    "theta_0 = np.ones((2, 1)).reshape(-1)\n",
    "theta_opt = minimize(\n",
    "    cost_function, x0=theta_0, args=(X_0, y, lamda), method='CG', jac=cost_gradient, \n",
    "    options={\"maxiter\":200, \"disp\":True}).x\n",
    "theta_opt"
   ]
  },
  {
   "cell_type": "code",
   "execution_count": 480,
   "metadata": {
    "collapsed": false
   },
   "outputs": [
    {
     "data": {
      "text/plain": [
       "<matplotlib.legend.Legend at 0x111b2c450>"
      ]
     },
     "execution_count": 480,
     "metadata": {},
     "output_type": "execute_result"
    },
    {
     "data": {
      "image/png": "[encoded data removed]",
      "text/plain": [
       "<matplotlib.figure.Figure at 0x10f562990>"
      ]
     },
     "metadata": {},
     "output_type": "display_data"
    }
   ],
   "source": [
    "x_domain = np.linspace(-50, 50, 1001)\n",
    "plt.plot(x_domain, theta_opt[0] + theta_opt[1] * x_domain, label='Fitted model')\n",
    "plt.scatter(X_0, y, c = 'r', marker='x', label='Actual data')\n",
    "plt.xlabel('Change in water level')\n",
    "plt.ylabel('Change in water flowing out of dam')\n",
    "plt.title('Water in and water out')\n",
    "plt.legend(loc=2)"
   ]
  },
  {
   "cell_type": "markdown",
   "metadata": {},
   "source": [
    "## 2 Bias-variance"
   ]
  },
  {
   "cell_type": "markdown",
   "metadata": {},
   "source": [
    "### 2.1 Learning curves"
   ]
  },
  {
   "cell_type": "code",
   "execution_count": 481,
   "metadata": {
    "collapsed": false
   },
   "outputs": [
    {
     "data": {
      "text/plain": [
       "<matplotlib.legend.Legend at 0x111c8ab50>"
      ]
     },
     "execution_count": 481,
     "metadata": {},
     "output_type": "execute_result"
    },
    {
     "data": {
      "image/png": "[encoded data removed]",
      "text/plain": [
       "<matplotlib.figure.Figure at 0x10f7934d0>"
      ]
     },
     "metadata": {},
     "output_type": "display_data"
    }
   ],
   "source": [
    "error_train = []\n",
    "error_val = []\n",
    "\n",
    "lamda = 0.0\n",
    "for i in range(2,m): \n",
    "    theta_0 = np.ones((2, 1)).reshape(-1)\n",
    "    j_train = minimize(\n",
    "    cost_function, x0=theta_0, args=(X_0[:i], y[:i], lamda), method='CG', jac=cost_gradient, \n",
    "    options={\"maxiter\":200, \"disp\":False})\n",
    "    error_train.append(j_train.fun)\n",
    "    j_val = cost_function(j_train.x, X_0_val, y_val, lamda)\n",
    "    error_val.append(j_val)\n",
    "\n",
    "plt.plot(range(2,m), error_train, label='Training set')\n",
    "plt.plot(range(2,m), error_val, label='Cross validation set')\n",
    "plt.title('High bias')\n",
    "plt.ylabel(r'$J(\\theta)$')\n",
    "plt.xlabel('Number of training examples')\n",
    "plt.legend(loc=1)"
   ]
  },
  {
   "cell_type": "markdown",
   "metadata": {},
   "source": [
    "##3 Polynomial regression"
   ]
  },
  {
   "cell_type": "code",
   "execution_count": 482,
   "metadata": {
    "collapsed": false
   },
   "outputs": [],
   "source": [
    "def poly_features(X_0, p):\n",
    "    X = np.ones((X_0.shape[0], p))\n",
    "    X[:,0] = X_0.flatten()\n",
    "    for j in range(1, p):\n",
    "        X[:,j] = X[:,0]**(j+1)\n",
    "    return X"
   ]
  },
  {
   "cell_type": "markdown",
   "metadata": {},
   "source": [
    "### 3.1 Learning Polynomial Regression"
   ]
  },
  {
   "cell_type": "code",
   "execution_count": 483,
   "metadata": {
    "collapsed": false
   },
   "outputs": [],
   "source": [
    "def feature_normalise(X_0):\n",
    "    X_p = np.zeros(X_0.shape)\n",
    "    mu = []\n",
    "    sigma = []\n",
    "    for j in range(0, X_0.shape[1]):\n",
    "        mean_j = np.mean(X_0[:,j])\n",
    "        std_j = np.std(X_0[:,j])\n",
    "        X_p[:,j] = (( X_0[:,j] - mean_j) / std_j)\n",
    "        mu.append(mean_j)\n",
    "        sigma.append(std_j)\n",
    "    return X_p, mu, sigma"
   ]
  },
  {
   "cell_type": "code",
   "execution_count": 514,
   "metadata": {
    "collapsed": false
   },
   "outputs": [
    {
     "name": "stdout",
     "output_type": "stream",
     "text": [
      "Optimization terminated successfully.\n",
      "         Current function value: 0.028892\n",
      "         Iterations: 73\n",
      "         Function evaluations: 76\n",
      "         Gradient evaluations: 76\n"
     ]
    },
    {
     "data": {
      "text/plain": [
       "<matplotlib.legend.Legend at 0x1162c9910>"
      ]
     },
     "execution_count": 514,
     "metadata": {},
     "output_type": "execute_result"
    },
    {
     "data": {
      "image/png": "[encoded data removed]",
      "text/plain": [
       "<matplotlib.figure.Figure at 0x116336cd0>"
      ]
     },
     "metadata": {},
     "output_type": "display_data"
    }
   ],
   "source": [
    "p = 8\n",
    "X_p, mu, sigma = feature_normalise(poly_features(X_0,p))\n",
    "lamda = 0.0\n",
    "theta_0 = np.zeros((p+1, 1)).reshape(-1)\n",
    "theta_opt = minimize(\n",
    "    cost_function, x0=theta_0, args=(X_p, y, lamda), method='BFGS', jac=cost_gradient, \n",
    "    options={\"maxiter\":100, \"disp\":True}).x\n",
    "theta_opt\n",
    "\n",
    "x_domain_p = feature_normalise(poly_features(x_domain, p))[0]\n",
    "theta_0 = theta_opt[0]\n",
    "theta_opt = theta_opt[1:]\n",
    "prediction = theta_0 + np.dot(x_domain_p, theta_opt.reshape(p,1))\n",
    "plt.plot(x_domain, prediction, label='Fitted model')\n",
    "plt.scatter(X_0, y, c = 'r', marker='x', label='Actual data')\n",
    "plt.xlabel('Change in water level')\n",
    "plt.ylabel('Change in water flowing out of dam')\n",
    "plt.title('Polynomial prediction of water in and water out')\n",
    "plt.legend(loc=2)"
   ]
  },
  {
   "cell_type": "code",
   "execution_count": 515,
   "metadata": {
    "collapsed": false
   },
   "outputs": [
    {
     "data": {
      "text/plain": [
       "<matplotlib.legend.Legend at 0x116460d50>"
      ]
     },
     "execution_count": 515,
     "metadata": {},
     "output_type": "execute_result"
    },
    {
     "data": {
      "image/png": "[encoded data removed]",
      "text/plain": [
       "<matplotlib.figure.Figure at 0x11632eed0>"
      ]
     },
     "metadata": {},
     "output_type": "display_data"
    }
   ],
   "source": [
    "prediction_p = theta_0 + np.dot(X_p, theta_opt.reshape(p,1))\n",
    "plt.scatter(X_0, prediction_p, c = 'k', marker='^', label='Fitted data')\n",
    "plt.scatter(X_0, y, c = 'r', marker='x', label='Actual data')\n",
    "plt.xlabel('Change in water level')\n",
    "plt.ylabel('Change in water flowing out of dam')\n",
    "plt.title('Polynomial prediction of water in and water out')\n",
    "plt.legend(loc=2)"
   ]
  },
  {
   "cell_type": "code",
   "execution_count": 519,
   "metadata": {
    "collapsed": false
   },
   "outputs": [
    {
     "name": "stdout",
     "output_type": "stream",
     "text": [
      "Optimization terminated successfully.\n",
      "         Current function value: 0.000000\n",
      "         Iterations: 2\n",
      "         Function evaluations: 6\n",
      "         Gradient evaluations: 6\n",
      "Optimization terminated successfully.\n",
      "         Current function value: 0.000000\n",
      "         Iterations: 6\n",
      "         Function evaluations: 14\n",
      "         Gradient evaluations: 14\n",
      "Warning: Desired error not necessarily achieved due to precision loss.\n",
      "         Current function value: 2.401540\n",
      "         Iterations: 1\n",
      "         Function evaluations: 14\n",
      "         Gradient evaluations: 2\n",
      "Warning: Desired error not necessarily achieved due to precision loss.\n",
      "         Current function value: 0.000125\n",
      "         Iterations: 46\n",
      "         Function evaluations: 87\n",
      "         Gradient evaluations: 75\n",
      "Optimization terminated successfully.\n",
      "         Current function value: 0.000000\n",
      "         Iterations: 229\n",
      "         Function evaluations: 399\n",
      "         Gradient evaluations: 399\n",
      "Warning: Desired error not necessarily achieved due to precision loss.\n",
      "         Current function value: 0.049829\n",
      "         Iterations: 66\n",
      "         Function evaluations: 149\n",
      "         Gradient evaluations: 137\n",
      "Optimization terminated successfully.\n",
      "         Current function value: 0.056714\n",
      "         Iterations: 256\n",
      "         Function evaluations: 449\n",
      "         Gradient evaluations: 449\n",
      "Optimization terminated successfully.\n",
      "         Current function value: 0.152497\n",
      "         Iterations: 111\n",
      "         Function evaluations: 218\n",
      "         Gradient evaluations: 218\n",
      "Warning: Desired error not necessarily achieved due to precision loss.\n",
      "         Current function value: 0.188984\n",
      "         Iterations: 104\n",
      "         Function evaluations: 205\n",
      "         Gradient evaluations: 193\n",
      "Optimization terminated successfully.\n",
      "         Current function value: 0.189679\n",
      "         Iterations: 68\n",
      "         Function evaluations: 157\n",
      "         Gradient evaluations: 157\n"
     ]
    },
    {
     "data": {
      "text/plain": [
       "<matplotlib.legend.Legend at 0x116c7ddd0>"
      ]
     },
     "execution_count": 519,
     "metadata": {},
     "output_type": "execute_result"
    },
    {
     "data": {
      "image/png": "[encoded data removed]",
      "text/plain": [
       "<matplotlib.figure.Figure at 0x116cf9bd0>"
      ]
     },
     "metadata": {},
     "output_type": "display_data"
    }
   ],
   "source": [
    "p = 5\n",
    "lamda = 0.0\n",
    "X_p, mu, sigma = feature_normalise(poly_features(X_0,p))\n",
    "X_p_val, mu, sigma = feature_normalise(poly_features(X_val,p))\n",
    "error_train = []\n",
    "error_val = []\n",
    "\n",
    "for i in range(2,m): \n",
    "    theta_0 = np.zeros((p+1, 1)).reshape(-1)\n",
    "    j_train = minimize(\n",
    "        cost_function, x0=theta_0, args=(X_p[:i,:], y[:i], lamda), method='CG', jac=cost_gradient, \n",
    "        options={\"maxiter\":1000, \"disp\":True})\n",
    "    error_train.append(j_train.fun)\n",
    "    j_val = cost_function(j_train.x, X_p_val, y_val, lamda)\n",
    "    error_val.append(j_val)\n",
    "\n",
    "plt.plot(range(2,m), error_train, label='Training set')\n",
    "plt.plot(range(2,m), error_val, label='Cross validation set')\n",
    "plt.title('High bias')\n",
    "plt.ylabel(r'$J(\\theta)$')\n",
    "plt.xlabel('Number of training examples')\n",
    "plt.legend(loc=1)"
   ]
  },
  {
   "cell_type": "code",
   "execution_count": null,
   "metadata": {
    "collapsed": true
   },
   "outputs": [],
   "source": []
  }
 ],
 "metadata": {
  "kernelspec": {
   "display_name": "Python 2",
   "language": "python",
   "name": "python2"
  },
  "language_info": {
   "codemirror_mode": {
    "name": "ipython",
    "version": 2
   },
   "file_extension": ".py",
   "mimetype": "text/x-python",
   "name": "python",
   "nbconvert_exporter": "python",
   "pygments_lexer": "ipython2",
   "version": "2.7.10"
  }
 },
 "nbformat": 4,
 "nbformat_minor": 0
}
