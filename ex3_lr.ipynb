{
 "cells": [
  {
   "cell_type": "markdown",
   "metadata": {},
   "source": [
    "###Machine learning in python\n",
    "\n",
    "Exercise 3.1 of Andrew Ng's coursera course\n",
    "\n",
    "One v all logistic regression\n"
   ]
  },
  {
   "cell_type": "code",
   "execution_count": 253,
   "metadata": {
    "collapsed": true
   },
   "outputs": [],
   "source": [
    "import numpy as np\n",
    "from scipy import io\n",
    "from scipy.optimize import minimize, fmin_cg"
   ]
  },
  {
   "cell_type": "code",
   "execution_count": 362,
   "metadata": {
    "collapsed": true
   },
   "outputs": [],
   "source": [
    "def sigmoid(X):\n",
    "    \"\"\"\n",
    "    Compute the sigmoid function\n",
    "    \"\"\"\n",
    "    denominator = 1.0 + np.exp(-1.0 * X)\n",
    "    return 1.0 / denominator"
   ]
  },
  {
   "cell_type": "code",
   "execution_count": 363,
   "metadata": {
    "collapsed": true
   },
   "outputs": [],
   "source": [
    "def cost_function(theta, X, y): \n",
    "    \"\"\"\n",
    "    computes cost given predicted and actual values\n",
    "    \"\"\"\n",
    "    Z = np.dot(X, theta)\n",
    "    term1 = np.dot(Y, sigmoid(Z))\n",
    "    term2 = np.dot((1-Y), sigmoid((1-Z)))\n",
    "    J = (1./m) * (- term1 - term2)\n",
    "    return J"
   ]
  },
  {
   "cell_type": "code",
   "execution_count": 364,
   "metadata": {
    "collapsed": true
   },
   "outputs": [],
   "source": [
    "def cost_function_reg(theta, lamda, X, y): \n",
    "    \"\"\"\n",
    "    computes cost given predicted and actual values\n",
    "    \"\"\"\n",
    "    t1 = cost_function(theta, X, y)\n",
    "    t3 = (lamda / (2 * float(m))) * np.dot(theta, theta)\n",
    "    J = t1 + t3\n",
    "    return J"
   ]
  },
  {
   "cell_type": "code",
   "execution_count": 365,
   "metadata": {
    "collapsed": false
   },
   "outputs": [],
   "source": [
    "def grad_function(theta, X, y):\n",
    "    \"\"\"\n",
    "    computes the gradient of the cost function\n",
    "    \"\"\"\n",
    "    h_theta = sigmoid(np.dot(X,theta)) - Y\n",
    "    grad = np.dot(h_theta, X) / float(m)\n",
    "    return grad.flatten()"
   ]
  },
  {
   "cell_type": "code",
   "execution_count": 366,
   "metadata": {
    "collapsed": true
   },
   "outputs": [],
   "source": [
    "def grad_function_reg(theta, lamda, X, y):\n",
    "    \"\"\"\n",
    "    computes the gradient of the cost function\n",
    "    \"\"\"\n",
    "    t1 = grad_function(theta, X, y)\n",
    "    reg_term = (lamda * theta / m)\n",
    "    reg_term[0] = 0\n",
    "    grad = t1 + reg_term\n",
    "    return grad"
   ]
  },
  {
   "cell_type": "code",
   "execution_count": 421,
   "metadata": {
    "collapsed": false
   },
   "outputs": [
    {
     "data": {
      "text/plain": [
       "0.0"
      ]
     },
     "execution_count": 421,
     "metadata": {},
     "output_type": "execute_result"
    }
   ],
   "source": [
    "# load dataset\n",
    "dta = io.loadmat('ex3data1.mat')\n",
    "X = dta['X']\n",
    "Y = dta['y'].flatten()\n",
    "m, n = X.shape \n",
    "X = np.c_[ np.ones(m), X]\n",
    "theta = np.random.uniform(-1,1,n+1)\n",
    "\n",
    "# One v all classification\n",
    "K = 10\n",
    "theta_opt_K = []\n",
    "lamda = 1.0\n",
    "theta = np.zeros(( n+1, 1 )).flatten()\n",
    "\n",
    "for k in range(K):\n",
    "    y_k = Y\n",
    "    y_k = ((Y == (k+1))).flatten()\n",
    "    theta_opt = minimize(\n",
    "        cost_function_reg, theta, args=(lamda, X, y_k), jac=grad_function_reg,\n",
    "        method='TNC', options={\"maxiter\":500, \"disp\":True} ).x\n",
    "    theta_opt_K.append(theta_opt)\n",
    "\n",
    "# predictions\n",
    "theta_opt_K = np.array(theta_opt_K)\n",
    "prediction = np.argmax(np.dot(theta_opt_K, X.T), axis=0)\n",
    "accuracy = 100 * sum((prediction==Y)) / float(len(Y))\n",
    "accuracy"
   ]
  },
  {
   "cell_type": "code",
   "execution_count": null,
   "metadata": {
    "collapsed": true
   },
   "outputs": [],
   "source": []
  }
 ],
 "metadata": {
  "kernelspec": {
   "display_name": "Python 2",
   "language": "python",
   "name": "python2"
  },
  "language_info": {
   "codemirror_mode": {
    "name": "ipython",
    "version": 2
   },
   "file_extension": ".py",
   "mimetype": "text/x-python",
   "name": "python",
   "nbconvert_exporter": "python",
   "pygments_lexer": "ipython2",
   "version": "2.7.10"
  }
 },
 "nbformat": 4,
 "nbformat_minor": 0
}
