{
 "cells": [
  {
   "cell_type": "markdown",
   "metadata": {},
   "source": [
    "###Machine learning in python\n",
    "\n",
    "Exercise 3.2 of Andrew Ng's coursera course\n",
    "\n",
    "Neural networks\n"
   ]
  },
  {
   "cell_type": "code",
   "execution_count": 1,
   "metadata": {
    "collapsed": true
   },
   "outputs": [],
   "source": [
    "%matplotlib inline\n",
    "import matplotlib.pyplot as plt\n",
    "import numpy as np\n",
    "from scipy.io import loadmat"
   ]
  },
  {
   "cell_type": "code",
   "execution_count": 6,
   "metadata": {
    "collapsed": false
   },
   "outputs": [],
   "source": [
    "# load dataset\n",
    "theta = loadmat('ex3weights.mat')\n",
    "theta1 = theta['Theta1']\n",
    "theta2 = theta['Theta2']\n",
    "\n",
    "dta = loadmat('ex3data1.mat')\n",
    "X = dta['X']\n",
    "Y = dta['y']\n",
    "m, n = X.shape \n",
    "X = np.c_[ np.ones(m), X]"
   ]
  },
  {
   "cell_type": "code",
   "execution_count": 7,
   "metadata": {
    "collapsed": true
   },
   "outputs": [],
   "source": [
    "def sigmoid(X):\n",
    "    \"\"\"\n",
    "    Compute the sigmoid function\n",
    "    \"\"\"\n",
    "    denominator = 1.0 + np.exp(-1.0 * X)\n",
    "    return 1.0 / denominator"
   ]
  },
  {
   "cell_type": "code",
   "execution_count": 8,
   "metadata": {
    "collapsed": false
   },
   "outputs": [],
   "source": [
    "def forward_propogation(theta1, theta2, X):\n",
    "    \"\"\"\n",
    "    Forward propogation\n",
    "    \"\"\"\n",
    "    a1 = X\n",
    "    z2 = theta1.dot(a1.T)\n",
    "    z2 = sigmoid(z2)\n",
    "    a2 = np.ones((m,26))\n",
    "    a2[:,1:] = z2.T\n",
    "    z3 = theta2.dot(a2.T)\n",
    "    a3 = sigmoid(z3)\n",
    "    pr = np.argmax(a3, axis=0)\n",
    "    # note the carried one due to python indexing\n",
    "    return a3, pr.reshape(1, pr.shape[0]).T + 1"
   ]
  },
  {
   "cell_type": "code",
   "execution_count": 9,
   "metadata": {
    "collapsed": false
   },
   "outputs": [
    {
     "name": "stdout",
     "output_type": "stream",
     "text": [
      "The neural network correctly predicts 0.975200 percent of the cells\n"
     ]
    }
   ],
   "source": [
    "a, p = forward_propogation(theta1, theta2, X)\n",
    "accuracy = sum((p==Y)) / float(len(Y))\n",
    "print 'The neural network correctly predicts %f percent of the cells' % accuracy\n"
   ]
  },
  {
   "cell_type": "code",
   "execution_count": null,
   "metadata": {
    "collapsed": true
   },
   "outputs": [],
   "source": []
  }
 ],
 "metadata": {
  "kernelspec": {
   "display_name": "Python 2",
   "language": "python",
   "name": "python2"
  },
  "language_info": {
   "codemirror_mode": {
    "name": "ipython",
    "version": 2
   },
   "file_extension": ".py",
   "mimetype": "text/x-python",
   "name": "python",
   "nbconvert_exporter": "python",
   "pygments_lexer": "ipython2",
   "version": "2.7.10"
  }
 },
 "nbformat": 4,
 "nbformat_minor": 0
}
